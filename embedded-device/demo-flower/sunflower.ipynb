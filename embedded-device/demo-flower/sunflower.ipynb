{
 "cells": [
  {
   "cell_type": "code",
   "execution_count": 1,
   "metadata": {},
   "outputs": [],
   "source": [
    "from jetbot import Robot\n",
    "import time"
   ]
  },
  {
   "cell_type": "code",
   "execution_count": 2,
   "metadata": {},
   "outputs": [],
   "source": [
    "# Init the drawbot\n",
    "drawbot = Robot()"
   ]
  },
  {
   "cell_type": "markdown",
   "metadata": {},
   "source": [
    "# Draw flower\n",
    "\n",
    "The drawbot detects the circle and starts the first leaf. It makes a small curve. When it has reaches a few centimeters, it turns quickly. Then, it makes another curved turn, resulting in the full leaf. Because the angle in which it turned is around 30 degrees, it can repeat this process 360/30, which is 12 times to make a full flower."
   ]
  },
  {
   "cell_type": "code",
   "execution_count": 4,
   "metadata": {},
   "outputs": [],
   "source": [
    "def drawSunflower(drawbot):\n",
    "    INITIAL_SPEED = 0.4\n",
    "    TIMEOUT = 0.25\n",
    "    TIMEOUT_TURN = 1.5\n",
    "    SLOW_SPEED = INITIAL_SPEED * 0.5\n",
    "    \n",
    "    drawbot.forward(INITIAL_SPEED)\n",
    "    time.sleep(TIMEOUT)\n",
    "    \n",
    "    drawbot.backward(INITIAL_SPEED)\n",
    "    time.sleep(TIMEOUT)\n",
    "    \n",
    "    drawbot.left(INITIAL_SPEED)\n",
    "    time.sleep(0.25)\n",
    "    \n",
    "    drawbot.stop()"
   ]
  },
  {
   "cell_type": "code",
   "execution_count": 5,
   "metadata": {},
   "outputs": [
    {
     "name": "stdout",
     "output_type": "stream",
     "text": [
      "0.2\n",
      "0.2\n",
      "0.2\n",
      "0.2\n",
      "0.2\n",
      "0.2\n",
      "0.2\n",
      "0.2\n",
      "0.2\n",
      "0.2\n"
     ]
    }
   ],
   "source": [
    "LOOP_COUNTER = 10\n",
    "\n",
    "# Run program\n",
    "for i in range(LOOP_COUNTER):\n",
    "    drawLeaf(drawbot)"
   ]
  }
 ],
 "metadata": {
  "kernelspec": {
   "display_name": "Python 3",
   "language": "python",
   "name": "python3"
  },
  "language_info": {
   "codemirror_mode": {
    "name": "ipython",
    "version": 3
   },
   "file_extension": ".py",
   "mimetype": "text/x-python",
   "name": "python",
   "nbconvert_exporter": "python",
   "pygments_lexer": "ipython3",
   "version": "3.6.9"
  }
 },
 "nbformat": 4,
 "nbformat_minor": 4
}
