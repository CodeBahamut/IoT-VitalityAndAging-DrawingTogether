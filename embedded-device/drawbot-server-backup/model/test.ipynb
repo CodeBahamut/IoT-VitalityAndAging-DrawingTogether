{
 "cells": [
  {
   "cell_type": "code",
   "execution_count": 1,
   "id": "touched-welcome",
   "metadata": {},
   "outputs": [],
   "source": [
    "from queue import Queue\n",
    "from Command import Command\n",
    "from time import sleep\n",
    "from threading import Thread\n",
    "from jetbot import Robot\n",
    "from DrawBot import DrawBot\n"
   ]
  },
  {
   "cell_type": "code",
   "execution_count": 2,
   "id": "nonprofit-workstation",
   "metadata": {},
   "outputs": [
    {
     "name": "stderr",
     "output_type": "stream",
     "text": [
      "/usr/local/lib/python3.6/dist-packages/Jetson/GPIO/gpio.py:386: RuntimeWarning: This channel is already in use, continuing anyway. Use GPIO.setwarnings(False) to disable warnings\n",
      "  RuntimeWarning)\n"
     ]
    }
   ],
   "source": [
    "drawBot = DrawBot()\n",
    "drawBot.drawTurnLeaf()"
   ]
  },
  {
   "cell_type": "code",
   "execution_count": null,
   "id": "intimate-stephen",
   "metadata": {},
   "outputs": [],
   "source": []
  }
 ],
 "metadata": {
  "kernelspec": {
   "display_name": "Python 3",
   "language": "python",
   "name": "python3"
  },
  "language_info": {
   "codemirror_mode": {
    "name": "ipython",
    "version": 3
   },
   "file_extension": ".py",
   "mimetype": "text/x-python",
   "name": "python",
   "nbconvert_exporter": "python",
   "pygments_lexer": "ipython3",
   "version": "3.6.9"
  }
 },
 "nbformat": 4,
 "nbformat_minor": 5
}
