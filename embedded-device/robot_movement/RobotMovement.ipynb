{
 "cells": [
  {
   "cell_type": "markdown",
   "id": "shaped-protein",
   "metadata": {},
   "source": [
    "# Import libs"
   ]
  },
  {
   "cell_type": "code",
   "execution_count": 1,
   "id": "educated-things",
   "metadata": {},
   "outputs": [],
   "source": [
    "from RobotMovement import RobotMovement\n",
    "import time"
   ]
  },
  {
   "cell_type": "code",
   "execution_count": 2,
   "id": "quiet-traffic",
   "metadata": {},
   "outputs": [],
   "source": [
    "robot_movement = RobotMovement()"
   ]
  },
  {
   "cell_type": "code",
   "execution_count": 3,
   "id": "aquatic-allowance",
   "metadata": {},
   "outputs": [],
   "source": [
    "#robot_movement.left_curve(speed=-0.6)\n",
    "\n",
    "#time.sleep(10)\n",
    "#robot_movement.stop()"
   ]
  },
  {
   "cell_type": "code",
   "execution_count": 4,
   "id": "ruled-indonesia",
   "metadata": {},
   "outputs": [],
   "source": [
    "#robot_movement.turn_set_degrees_right(180)\n",
    "#time.sleep(3)\n",
    "#robot_movement.turn_set_degrees_right(180)\n",
    "#time.sleep(3)"
   ]
  },
  {
   "cell_type": "code",
   "execution_count": 5,
   "id": "preceding-injury",
   "metadata": {},
   "outputs": [],
   "source": [
    "robot_movement.turn_45_degree_right()\n",
    "time.sleep(1)\n",
    "robot_movement.turn_45_degree_left()\n",
    "time.sleep(1)\n",
    "robot_movement.turn_45_degree_left()\n",
    "time.sleep(1)\n",
    "robot_movement.turn_45_degree_right()\n",
    "time.sleep(1)\n",
    "robot_movement.turn_90_degree_right()\n",
    "time.sleep(1)\n",
    "robot_movement.turn_90_degree_left()\n",
    "time.sleep(1)\n",
    "robot_movement.turn_90_degree_left()\n",
    "time.sleep(1)\n",
    "robot_movement.turn_90_degree_right()\n",
    "time.sleep(1)\n",
    "robot_movement.turn_180_degree_right()\n",
    "time.sleep(1)\n",
    "robot_movement.turn_180_degree_left()\n",
    "time.sleep(1)\n",
    "robot_movement.turn_180_degree_left()\n",
    "time.sleep(1)\n",
    "robot_movement.turn_180_degree_right()\n",
    "time.sleep(1)\n",
    "robot_movement.turn_360_degree_right()\n",
    "time.sleep(1)\n",
    "robot_movement.turn_360_degree_left()\n",
    "time.sleep(1)\n",
    "robot_movement.turn_360_degree_left()\n",
    "time.sleep(1)\n",
    "robot_movement.turn_360_degree_right()\n",
    "time.sleep(1)"
   ]
  }
 ],
 "metadata": {
  "kernelspec": {
   "display_name": "Python 3",
   "language": "python",
   "name": "python3"
  },
  "language_info": {
   "codemirror_mode": {
    "name": "ipython",
    "version": 3
   },
   "file_extension": ".py",
   "mimetype": "text/x-python",
   "name": "python",
   "nbconvert_exporter": "python",
   "pygments_lexer": "ipython3",
   "version": "3.6.9"
  }
 },
 "nbformat": 4,
 "nbformat_minor": 5
}
